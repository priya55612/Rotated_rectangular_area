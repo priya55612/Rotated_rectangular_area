{
 "cells": [
  {
   "cell_type": "markdown",
   "metadata": {},
   "source": [
    "https://stackoverflow.com/questions/11627362/how-to-straighten-a-rotated-rectangle-area-of-an-image-using-opencv-in-python/54823710#54823710"
   ]
  },
  {
   "cell_type": "code",
   "execution_count": 1,
   "metadata": {},
   "outputs": [],
   "source": [
    "import cv2\n",
    "import numpy as np\n",
    "import math\n",
    "%matplotlib inline\n",
    "import matplotlib.pyplot as plt\n",
    "from imutils import rotate\n",
    "from imutils.perspective import order_points\n",
    "from numpy.linalg import norm\n",
    "from scipy import interpolate"
   ]
  },
  {
   "cell_type": "code",
   "execution_count": 2,
   "metadata": {},
   "outputs": [],
   "source": [
    "def txtpth_array(txt_path):\n",
    "    f = open(txt_path, \"r\")\n",
    "    f.readline()\n",
    "    data_text = []\n",
    "    for x in f:\n",
    "        k = x.split(\" \")\n",
    "        data_text.append(k)\n",
    "    data = np.asarray( data_text, dtype = np.float64).astype(int)\n",
    "    return data"
   ]
  },
  {
   "cell_type": "code",
   "execution_count": 3,
   "metadata": {},
   "outputs": [],
   "source": [
    "img_txt_path = \"/home/priyanka/Desktop/CNN_classifier/annotated_data/L_0.txt\"\n",
    "data = txtpth_array(img_txt_path)"
   ]
  },
  {
   "cell_type": "code",
   "execution_count": 4,
   "metadata": {},
   "outputs": [],
   "source": [
    "def subimage(image, center,height, width, angle):\n",
    "    X,Y = np.meshgrid(np.arange(image.shape[1]),np.arange(image.shape[0]))\n",
    "    X = X.reshape(-1)\n",
    "    Y = Y.reshape(-1)\n",
    "    points = []\n",
    "\n",
    "    temp = []\n",
    "    temp.append(center[0] + height*math.cos(math.radians(angle))/2.0 + width*math.cos(math.radians(90+angle))/2.0)\n",
    "    temp.append(center[1] - height*math.sin(math.radians(angle))/2.0 - width*math.sin(math.radians(90+angle))/2.0)\n",
    "    points.append(np.array(temp))\n",
    "\n",
    "    temp = []\n",
    "    temp.append(center[0] - height*math.cos(math.radians(angle))/2.0 + width*math.cos(math.radians(90+angle))/2.0)\n",
    "    temp.append(center[1] + height*math.sin(math.radians(angle))/2.0 - width*math.sin(math.radians(90+angle))/2.0)\n",
    "    points.append(np.array(temp))\n",
    "\n",
    "    temp = []\n",
    "    temp.append(center[0] - height*math.cos(math.radians(angle))/2.0 - width*math.cos(math.radians(90+angle))/2.0)\n",
    "    temp.append(center[1] + height*math.sin(math.radians(angle))/2.0 + width*math.sin(math.radians(90+angle))/2.0)\n",
    "    points.append(np.array(temp))\n",
    "\n",
    "    temp = []\n",
    "    temp.append(center[0] + height*math.cos(math.radians(angle))/2.0 - width*math.cos(math.radians(90+angle))/2.0)\n",
    "    temp.append(center[1] - height*math.sin(math.radians(angle))/2.0 + width*math.sin(math.radians(90+angle))/2.0)\n",
    "    points.append(np.array(temp))\n",
    "\n",
    "    points = order_points(np.stack(points,axis=0))\n",
    "    p_tl = points[0]\n",
    "    p_tr = points[1]\n",
    "    p_bl = points[3]\n",
    "\n",
    "    d1 = norm(p_tr-p_tl)\n",
    "    d2 = norm(p_bl-p_tl)\n",
    "    vec_x = (p_tr-p_tl)/d1\n",
    "    vec_y = (p_bl-p_tl)/d2\n",
    "    if d1 < d2:\n",
    "        x = np.linspace(0,d1,width)\n",
    "        y = np.linspace(0,d2,height)\n",
    "    else:\n",
    "        x = np.linspace(0,d1,height)\n",
    "        y = np.linspace(0,d2,width)\n",
    "    xx,yy = np.meshgrid(x,y)\n",
    "    xx_new = p_tl[0] + vec_x[0]*xx + vec_y[0]*yy\n",
    "    yy_new = p_tl[1] + vec_x[1]*xx + vec_y[1]*yy\n",
    "    img = interpolate.griddata((X,Y),image.reshape(-1),(xx_new,yy_new), method = \"nearest\")\n",
    "    return img"
   ]
  },
  {
   "cell_type": "code",
   "execution_count": 5,
   "metadata": {},
   "outputs": [],
   "source": [
    "image  = cv2.imread(\"/home/priyanka/Desktop/CNN_classifier/annotated_data/L_0.png\")[:,:,0]"
   ]
  },
  {
   "cell_type": "code",
   "execution_count": null,
   "metadata": {},
   "outputs": [],
   "source": [
    "for i in range(len(data)):\n",
    "    k = \"L_0\"\n",
    "    label  = str(data[i][0])\n",
    "    center = (data[i][1],data[i][2])\n",
    "    height = data[i][3]\n",
    "    width = data[i][4]\n",
    "    theta  = data[i][5]\n",
    "    \n",
    "    img1 = subimage(image, center=center,height=height, width=width, angle= theta)\n",
    "    \n",
    "    if label in [\"0\",\"1\",\"2\",\"3\"]:\n",
    "        cv2.imwrite(\"/home/priyanka/Desktop/CNN_classifier/output/{1}_{0}.png\".format(k,label),img1)\n",
    "    else:\n",
    "        cv2.imwrite(\"/home/priyanka/Desktop/CNN_classifier/output_2/{1}_{0}.png\".format(k,label),img1)\n",
    "    "
   ]
  },
  {
   "cell_type": "code",
   "execution_count": null,
   "metadata": {},
   "outputs": [],
   "source": [
    "image = cv2.imread(\"/home/priyanka/Desktop/CNN_classifier/annotated_data/L_103.png\")\n",
    "image = subimage(image, center=(536,1133),height=399, width=220, theta=73)\n",
    "print(image.shape)\n",
    "#cv2.imshow(\"img0000\",image)\n",
    "#cv2.waitKey(0)\n",
    "#cv2.imwrite('patch103.png', image)"
   ]
  },
  {
   "cell_type": "code",
   "execution_count": null,
   "metadata": {},
   "outputs": [],
   "source": [
    "label  = str(1)\n",
    "label_1 = 1\n",
    "print(type(label_1))"
   ]
  },
  {
   "cell_type": "code",
   "execution_count": null,
   "metadata": {},
   "outputs": [],
   "source": [
    "ls"
   ]
  },
  {
   "cell_type": "code",
   "execution_count": null,
   "metadata": {},
   "outputs": [],
   "source": [
    "import glob\n",
    "import cv2\n",
    "import numpy as np\n",
    "path = \"/home/priyanka/Desktop/Annotated_data/Processed_images/Right_images/images/R_\"\n",
    "#print(len(path))\n",
    "images = [file for file in glob.glob(\"/home/priyanka/Desktop/Annotated_data/Processed_images/Right_images/images/*.png\")]\n",
    "images.sort(key = lambda x:int(x[len(path):-4]))\n",
    "#print(images)\n",
    "img_txt_pths = [file for file in glob.glob(\"/home/priyanka/Desktop/Annotated_data/Processed_images/Right_images/images/*.txt\")]\n",
    "#print(img_txt_pths)\n",
    "img_txt_pths.sort(key = lambda x:int(x[len(path):-4]))"
   ]
  },
  {
   "cell_type": "code",
   "execution_count": null,
   "metadata": {},
   "outputs": [],
   "source": [
    "for i in range(len(img_txt_pths)):\n",
    "    print(images[i].split('images/')[-1].split(\".\")[0])\n",
    "    #print(images[i])\n",
    "    "
   ]
  },
  {
   "cell_type": "code",
   "execution_count": null,
   "metadata": {},
   "outputs": [],
   "source": [
    "for i in range(len(img_txt_pths)):\n",
    "    image = cv2.imread(images[i])[:,:,0]\n",
    "    k = str(img_txt_pths[i].split('images/')[-1].split(\".\")[0])\n",
    "    print(k,\"k\")\n",
    "    data = txtpth_array(img_txt_pths[i])\n",
    "    for j in range(len(data)):\n",
    "        label  = str(data[j][0])\n",
    "        center = (data[j][1],data[j][2])\n",
    "        height = data[j][3]\n",
    "        width = data[j][4]\n",
    "        theta  = data[j][5]\n",
    "        img1 = subimage(image, center=center,height=height, width=width, angle=theta)\n",
    "        if label in [\"0\",\"1\",\"2\",\"3\"]:\n",
    "            cv2.imwrite(\"/home/priyanka/Desktop/Annotated_data/Processed_images/Right_images/distal_right_images/{1}_{0}.png\".format(k,label),img1)\n",
    "        else:\n",
    "            cv2.imwrite(\"/home/priyanka/Desktop/Annotated_data/Processed_images/Right_images/non_distal_right_images/{1}_{0}.png\".format(k,label),img1)"
   ]
  },
  {
   "cell_type": "code",
   "execution_count": null,
   "metadata": {},
   "outputs": [],
   "source": []
  }
 ],
 "metadata": {
  "kernelspec": {
   "display_name": "Python 3",
   "language": "python",
   "name": "python3"
  },
  "language_info": {
   "codemirror_mode": {
    "name": "ipython",
    "version": 3
   },
   "file_extension": ".py",
   "mimetype": "text/x-python",
   "name": "python",
   "nbconvert_exporter": "python",
   "pygments_lexer": "ipython3",
   "version": "3.6.8"
  }
 },
 "nbformat": 4,
 "nbformat_minor": 2
}
