{
 "cells": [
  {
   "cell_type": "code",
   "execution_count": 1,
   "metadata": {},
   "outputs": [],
   "source": [
    "dictionary = {'0': '3', '1': '2', '2': '1', '3': '0','4': '7', '5': '6', '6': '5', '7': '4'}"
   ]
  },
  {
   "cell_type": "code",
   "execution_count": 2,
   "metadata": {},
   "outputs": [],
   "source": [
    "# f = open(\"/home/priyanka/Desktop/CNN_classifier/annotated_data/L_0.txt\", \"r\")\n",
    "# for i in f:\n",
    "#     print(i)\n",
    "seq = []\n",
    "with open(\"/home/priyanka/Desktop/CNN_classifier/annotated_data/L_9.txt\", \"r\") as f:\n",
    "    lines = f.readlines()\n",
    "    seq.append(lines[0])\n",
    "    for line in lines[1:]:\n",
    "        tup = line.split(\" \")\n",
    "        tup[0] = dictionary[tup[0]]\n",
    "        line = \" \".join(tup)\n",
    "        seq.append(line)\n",
    "        \n",
    "with open(\"/home/priyanka/Desktop/CNN_classifier/annotated_data/pandas.txt\", \"w\") as f:\n",
    "    f.writelines(seq)"
   ]
  },
  {
   "cell_type": "code",
   "execution_count": 3,
   "metadata": {},
   "outputs": [
    {
     "name": "stdout",
     "output_type": "stream",
     "text": [
      "['/home/priyanka/Desktop/txts/old/L_89.txt', '/home/priyanka/Desktop/txts/old/L_365.txt', '/home/priyanka/Desktop/txts/old/R_126.txt', '/home/priyanka/Desktop/txts/old/L_103.txt', '/home/priyanka/Desktop/txts/old/L_9.txt']\n"
     ]
    }
   ],
   "source": [
    "import glob\n",
    "img_txt_pths = [file for file in glob.glob(\"/home/priyanka/Desktop/txts/old/*.txt\")]\n",
    "print(img_txt_pths)"
   ]
  },
  {
   "cell_type": "code",
   "execution_count": 15,
   "metadata": {},
   "outputs": [
    {
     "name": "stdout",
     "output_type": "stream",
     "text": [
      "/home/priyanka/Desktop/txts/new/L_89.txt\n",
      "/home/priyanka/Desktop/txts/new/L_365.txt\n",
      "/home/priyanka/Desktop/txts/new/R_126.txt\n",
      "/home/priyanka/Desktop/txts/new/L_103.txt\n",
      "/home/priyanka/Desktop/txts/new/L_9.txt\n"
     ]
    }
   ],
   "source": [
    "for i in img_txt_pths:\n",
    "    k = i.split('old/')\n",
    "    p = k[0]+'new/'+k[1]\n",
    "    print(p)\n",
    "    seq = []\n",
    "    with open(i, \"r\") as f:\n",
    "        lines = f.readlines()\n",
    "        seq.append(lines[0])\n",
    "        for line in lines[1:]:\n",
    "            tup = line.split(\" \")\n",
    "            tup[0] = dictionary[tup[0]]\n",
    "            line = \" \".join(tup)\n",
    "            seq.append(line)\n",
    "        \n",
    "    with open(p, \"w\") as f:\n",
    "        f.writelines(seq)"
   ]
  },
  {
   "cell_type": "code",
   "execution_count": 13,
   "metadata": {},
   "outputs": [
    {
     "name": "stdout",
     "output_type": "stream",
     "text": [
      "/home/priyanka/Desktop/txts/new/L_89.txt\n",
      "/home/priyanka/Desktop/txts/new/L_365.txt\n",
      "/home/priyanka/Desktop/txts/new/R_126.txt\n",
      "/home/priyanka/Desktop/txts/new/L_103.txt\n",
      "/home/priyanka/Desktop/txts/new/L_9.txt\n"
     ]
    }
   ],
   "source": [
    "for i in img_txt_pths:\n",
    "    k = i.split('old/')\n",
    "    p = k[0]+'new/'+k[1]\n",
    "    print(p)"
   ]
  },
  {
   "cell_type": "code",
   "execution_count": null,
   "metadata": {},
   "outputs": [],
   "source": []
  }
 ],
 "metadata": {
  "kernelspec": {
   "display_name": "Python 3",
   "language": "python",
   "name": "python3"
  },
  "language_info": {
   "codemirror_mode": {
    "name": "ipython",
    "version": 3
   },
   "file_extension": ".py",
   "mimetype": "text/x-python",
   "name": "python",
   "nbconvert_exporter": "python",
   "pygments_lexer": "ipython3",
   "version": "3.6.8"
  }
 },
 "nbformat": 4,
 "nbformat_minor": 2
}
